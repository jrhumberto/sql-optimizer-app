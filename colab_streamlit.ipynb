{
  "nbformat": 4,
  "nbformat_minor": 0,
  "metadata": {
    "colab": {
      "provenance": [],
      "authorship_tag": "ABX9TyPgoS5W1Z/NOWrpqorDZ/o2",
      "include_colab_link": true
    },
    "kernelspec": {
      "name": "python3",
      "display_name": "Python 3"
    },
    "language_info": {
      "name": "python"
    }
  },
  "cells": [
    {
      "cell_type": "markdown",
      "metadata": {
        "id": "view-in-github",
        "colab_type": "text"
      },
      "source": [
        "<a href=\"https://colab.research.google.com/github/jrhumberto/sql-optimizer-app/blob/main/colab_streamlit.ipynb\" target=\"_parent\"><img src=\"https://colab.research.google.com/assets/colab-badge.svg\" alt=\"Open In Colab\"/></a>"
      ]
    },
    {
      "cell_type": "code",
      "execution_count": 27,
      "metadata": {
        "id": "o4pP21vK13mz"
      },
      "outputs": [],
      "source": [
        "!pip install -q streamlit==\"1.20.0\" sqlglot==\"23.6.3\" streamlit-ace==\"0.1.1\" shandy-sqlfmt==\"0.17.0\""
      ]
    },
    {
      "cell_type": "code",
      "source": [
        "!npm install localtunnel"
      ],
      "metadata": {
        "colab": {
          "base_uri": "https://localhost:8080/"
        },
        "id": "hZE0cTWS1-Qo",
        "outputId": "42750c0f-b230-4b30-c5f7-0f4ae3a1f6c0"
      },
      "execution_count": 28,
      "outputs": [
        {
          "output_type": "stream",
          "name": "stdout",
          "text": [
            "\u001b[K\u001b[?25h\n",
            "up to date, audited 23 packages in 880ms\n",
            "\n",
            "3 packages are looking for funding\n",
            "  run `npm fund` for details\n",
            "\n",
            "2 \u001b[33m\u001b[1mmoderate\u001b[22m\u001b[39m severity vulnerabilities\n",
            "\n",
            "To address all issues (including breaking changes), run:\n",
            "  npm audit fix --force\n",
            "\n",
            "Run `npm audit` for details.\n"
          ]
        }
      ]
    },
    {
      "cell_type": "code",
      "source": [
        "%%writefile app.py\n",
        "import os\n",
        "\n",
        "import streamlit as st\n",
        "from streamlit_ace import st_ace\n",
        "\n",
        "\n",
        "from typing import Callable, Dict, Sequence\n",
        "from sqlglot import parse_one\n",
        "from sqlglot.expressions import Select\n",
        "from sqlglot.optimizer import RULES, optimize\n",
        "from sqlfmt.api import Mode, format_string\n",
        "\n",
        "RULE_MAPPING: Dict[str, Callable] = {rule.__name__: rule for rule in RULES}\n",
        "\n",
        "SAMPLE_QUERY: str = \"\"\"WITH users AS (\n",
        "    SELECT *\n",
        "    FROM users_table),\n",
        "orders AS (\n",
        "    SELECT *\n",
        "    FROM orders_table),\n",
        "combined AS (\n",
        "    SELECT users.id, users.name, orders.order_id, orders.total\n",
        "    FROM users\n",
        "    JOIN orders ON users.id = orders.user_id)\n",
        "SELECT combined.id, combined.name, combined.order_id, combined.total\n",
        "FROM combined\n",
        "\"\"\"\n",
        "\n",
        "\n",
        "def apply_optimizations(query: str, rules: Sequence[Callable] = RULES, remove_ctes: bool = False) -> Select:\n",
        "    return optimize(parse_one(query) , rules=rules, leave_tables_isolated=not(remove_ctes))\n",
        "\n",
        "\n",
        "def format_sql_with_sqlfmt(query: str) -> str:\n",
        "    return format_string(query, mode = Mode())\n",
        "\n",
        "\n",
        "st.set_page_config(layout=\"wide\")\n",
        "\n",
        "\n",
        "# Set custom CSS\n",
        "st.markdown(\n",
        "    \"\"\"\n",
        "# Optimize and lint SQL using [sqlglot](https://github.com/tobymao/sqlglot) and [sqlfmt](http://sqlfmt.com/)\n",
        "\n",
        "<style>\n",
        "body {\n",
        "    background-color: black;\n",
        "    color: white;\n",
        "}\n",
        "</style>\n",
        "\"\"\",\n",
        "    unsafe_allow_html=True,\n",
        ")\n",
        "\n",
        "left, right = st.columns(2)\n",
        "\n",
        "# Add rule selector\n",
        "selected_rules = st.multiselect(\n",
        "    'Optimization [rules](https://github.com/tobymao/sqlglot/blob/main/sqlglot/optimizer/optimizer.py). Drop \"canonicalize\" rule to prevent quoting.',\n",
        "    list(RULE_MAPPING.keys()),\n",
        "    default=list(RULE_MAPPING.keys()),\n",
        ")\n",
        "\n",
        "# Add checkboxes and button\n",
        "cols = [col for col in st.columns(12)]\n",
        "remove_ctes = cols[0].checkbox(\"Remove CTEs\", on_change=None)\n",
        "format_with_sqlfmt = cols[1].checkbox(\"Lint w/ sqlfmt\", on_change=None)\n",
        "optimize_button = st.button(\"Optimize SQL\")\n",
        "\n",
        "# Initialize session state\n",
        "if \"new_query\" not in st.session_state:\n",
        "    st.session_state.new_query = \"\"\n",
        "\n",
        "if \"state\" not in st.session_state:\n",
        "    st.session_state.state = 0\n",
        "\n",
        "\n",
        "# Add input editor\n",
        "def _generate_editor_widget(value: str, **kwargs) -> str:\n",
        "    return st_ace(\n",
        "        value=value,\n",
        "        height=os.getenv(\"EDITOR_HEIGHT\", 400),\n",
        "        theme=\"monokai\",\n",
        "        language=\"sql\",\n",
        "        font_size=os.getenv(\"FONT_SIZE\", 14),\n",
        "        wrap=True,\n",
        "        auto_update=True,\n",
        "        **kwargs,\n",
        "    )\n",
        "\n",
        "\n",
        "with left:\n",
        "    sql_input = _generate_editor_widget(SAMPLE_QUERY)\n",
        "\n",
        "# Optimize and lint query\n",
        "if optimize_button:\n",
        "    try:\n",
        "        rules = [RULE_MAPPING[rule] for rule in selected_rules]\n",
        "        new_query = apply_optimizations(sql_input, rules, remove_ctes).sql(pretty=True)\n",
        "        if format_with_sqlfmt:\n",
        "            new_query = format_sql_with_sqlfmt(new_query)\n",
        "        st.session_state.new_query = new_query\n",
        "        st.session_state.state += 1\n",
        "    except Exception as e:\n",
        "        st.error(f\"Error: {e}\")\n",
        "\n",
        "# Add output editor\n",
        "with right:\n",
        "    _generate_editor_widget(\n",
        "        st.session_state.new_query, readonly=True, key=f\"ace-{st.session_state.state}\"\n",
        "    )\n",
        "\n",
        "st.markdown(\n",
        "    f\"\"\"\n",
        "    <a href=\"{os.getenv('GITHUB_REPO')}\" target=\"_blank\">\n",
        "    <img src=\"{os.getenv('STAR_BADGE_URL')}\" alt=\"Star on GitHub\"></a>\n",
        "    \"\"\",\n",
        "    unsafe_allow_html=True,\n",
        ")\n"
      ],
      "metadata": {
        "colab": {
          "base_uri": "https://localhost:8080/"
        },
        "id": "Iraoi1Nt1-MA",
        "outputId": "9a60939e-51d8-418e-9494-a72fcb7f1d12"
      },
      "execution_count": 17,
      "outputs": [
        {
          "output_type": "stream",
          "name": "stdout",
          "text": [
            "Overwriting app.py\n"
          ]
        }
      ]
    },
    {
      "cell_type": "code",
      "source": [
        "!streamlit run app.py &>/content/logs.txt &"
      ],
      "metadata": {
        "id": "f1gE4DgE1-VV"
      },
      "execution_count": 29,
      "outputs": []
    },
    {
      "cell_type": "code",
      "source": [
        "!curl https://loca.lt/mytunnelpassword\n",
        "!npx localtunnel --port 8501"
      ],
      "metadata": {
        "colab": {
          "base_uri": "https://localhost:8080/"
        },
        "id": "LAaNNxVt8hmE",
        "outputId": "b9b895d6-6883-4034-9bb8-c3a5fc077101"
      },
      "execution_count": null,
      "outputs": [
        {
          "output_type": "stream",
          "name": "stdout",
          "text": [
            "104.196.158.107your url is: https://evil-signs-look.loca.lt\n"
          ]
        }
      ]
    },
    {
      "cell_type": "code",
      "source": [],
      "metadata": {
        "id": "FhcEBKPg9Dzc"
      },
      "execution_count": null,
      "outputs": []
    }
  ]
}